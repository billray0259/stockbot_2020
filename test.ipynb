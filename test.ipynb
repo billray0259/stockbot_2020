{
 "cells": [
  {
   "cell_type": "code",
   "execution_count": 35,
   "metadata": {},
   "outputs": [],
   "source": [
    "import requests\n",
    "from bs4 import BeautifulSoup\n",
    "from td_api import Account\n",
    "from datetime import datetime, timedelta\n",
    "from price_probability_distobution import get_pdfs_from_deltas, get_pdfs_from_marks\n",
    "import requests\n",
    "from bs4 import BeautifulSoup\n",
    "from td_api import Account\n",
    "from datetime import datetime, timedelta\n",
    "from price_probability_distobution import get_pdfs_from_deltas, get_pdfs_from_marks\n",
    "from scipy import stats\n",
    "from scipy.integrate import quad\n",
    "import time\n",
    "import numpy as np\n",
    "import pandas as pd\n",
    "from tqdm import tqdm"
   ]
  },
  {
   "cell_type": "code",
   "execution_count": 11,
   "metadata": {
    "tags": []
   },
   "outputs": [
    {
     "output_type": "stream",
     "name": "stdout",
     "text": "Getting data for SPY\nCalculating PDF for SPY\nGetting data for EEM\nCalculating PDF for EEM\nWarning dropped 13 rows containing NaN\nGetting data for QQQ\nCalculating PDF for QQQ\nGetting data for FXI\nCalculating PDF for FXI\nWarning dropped 19 rows containing NaN\nGetting data for AAPL\nCalculating PDF for AAPL\nWarning dropped 17 rows containing NaN\nGetting data for HYG\nCalculating PDF for HYG\nWarning dropped 27 rows containing NaN\nGetting data for IWM\nCalculating PDF for IWM\nWarning dropped 16 rows containing NaN\nGetting data for XOP\nCalculating PDF for XOP\nGetting data for XLF\nCalculating PDF for XLF\nGetting data for BAC\nCalculating PDF for BAC\nWarning dropped 24 rows containing NaN\nGetting data for AMD\nCalculating PDF for AMD\nWarning dropped 5 rows containing NaN\nGetting data for EWZ\nCalculating PDF for EWZ\nWarning dropped 24 rows containing NaN\nGetting data for MSFT\nCalculating PDF for MSFT\nGetting data for GLD\nCalculating PDF for GLD\nGetting data for T\nCalculating PDF for T\nGetting data for FB\nCalculating PDF for FB\nWarning dropped 12 rows containing NaN\nGetting data for BABA\nCalculating PDF for BABA\nWarning dropped 13 rows containing NaN\nGetting data for DIS\nCalculating PDF for DIS\nWarning dropped 21 rows containing NaN\nGetting data for TSLA\nCalculating PDF for TSLA\nGetting data for GE\nCalculating PDF for GE\nWarning dropped 8 rows containing NaN\nGetting data for NFLX\nCalculating PDF for NFLX\nGetting data for ROKU\nCalculating PDF for ROKU\nGetting data for GDX\nCalculating PDF for GDX\nWarning dropped 11 rows containing NaN\nGetting data for SLV\nCalculating PDF for SLV\nGetting data for EFA\nCalculating PDF for EFA\nWarning dropped 33 rows containing NaN\nGetting data for TLT\nCalculating PDF for TLT\nGetting data for UBER\nCalculating PDF for UBER\nGetting data for TEVA\nCalculating PDF for TEVA\nGetting data for MU\nCalculating PDF for MU\nGetting data for KRE\nCalculating PDF for KRE\nWarning dropped 22 rows containing NaN\nGetting data for INTC\nCalculating PDF for INTC\nWarning dropped 29 rows containing NaN\nGetting data for AMZN\nCalculating PDF for AMZN\nGetting data for MDR\nNo options data for MDR\nGetting data for NVST\nCalculating PDF for NVST\nGetting data for TWTR\nCalculating PDF for TWTR\nGetting data for USO\nCalculating PDF for USO\nGetting data for X\nCalculating PDF for X\nGetting data for NIO\nCalculating PDF for NIO\nGetting data for SNAP\nCalculating PDF for SNAP\nGetting data for NVDA\nCalculating PDF for NVDA\nGetting data for C\nCalculating PDF for C\nWarning dropped 8 rows containing NaN\nGetting data for BYND\nCalculating PDF for BYND\nWarning dropped 5 rows containing NaN\nGetting data for JD\nCalculating PDF for JD\nWarning dropped 2 rows containing NaN\nGetting data for JPM\nCalculating PDF for JPM\nWarning dropped 19 rows containing NaN\nGetting data for WFC\nCalculating PDF for WFC\nGetting data for CSCO\nCalculating PDF for CSCO\nWarning dropped 34 rows containing NaN\nGetting data for XLE\nCalculating PDF for XLE\nGetting data for PBR\nCalculating PDF for PBR\nGetting data for MPC\nCalculating PDF for MPC\nGetting data for XOM\nCalculating PDF for XOM\nGetting data for XLU\nCalculating PDF for XLU\nGetting data for SQ\nCalculating PDF for SQ\nGetting data for BA\nCalculating PDF for BA\nWarning dropped 17 rows containing NaN\nGetting data for I\nNo options data for I\nGetting data for CHK\nNo options data for CHK\nGetting data for FCX\nCalculating PDF for FCX\nWarning dropped 11 rows containing NaN\nGetting data for F\nCalculating PDF for F\nWarning dropped 10 rows containing NaN\nGetting data for UVXY\nCalculating PDF for UVXY\nGetting data for PCG\nCalculating PDF for PCG\nGetting data for BIDU\nCalculating PDF for BIDU\nWarning dropped 12 rows containing NaN\nGetting data for CGC\nCalculating PDF for CGC\nWarning dropped 11 rows containing NaN\nGetting data for ABBV\nCalculating PDF for ABBV\nWarning dropped 22 rows containing NaN\nGetting data for XBI\nCalculating PDF for XBI\nGetting data for AMRN\nCalculating PDF for AMRN\nWarning dropped 13 rows containing NaN\nGetting data for MS\nCalculating PDF for MS\nGetting data for ACB\nCalculating PDF for ACB\nWarning dropped 15 rows containing NaN\nGetting data for BMY\nCalculating PDF for BMY\nWarning dropped 28 rows containing NaN\nGetting data for PFE\nCalculating PDF for PFE\nGetting data for S\nNo options data for S\nGetting data for SBUX\nCalculating PDF for SBUX\nGetting data for WMT\nCalculating PDF for WMT\nGetting data for QCOM\nCalculating PDF for QCOM\nGetting data for GM\nCalculating PDF for GM\nWarning dropped 3 rows containing NaN\nGetting data for M\nCalculating PDF for M\nWarning dropped 11 rows containing NaN\nGetting data for SMH\nCalculating PDF for SMH\nGetting data for FIT\nCalculating PDF for FIT\nWarning dropped 8 rows containing NaN\nGetting data for AAL\nCalculating PDF for AAL\nWarning dropped 15 rows containing NaN\nGetting data for VZ\nCalculating PDF for VZ\nGetting data for CAT\nCalculating PDF for CAT\nWarning dropped 21 rows containing NaN\nGetting data for DIA\nCalculating PDF for DIA\nWarning dropped 18 rows containing NaN\nGetting data for VALE\nCalculating PDF for VALE\nGetting data for XRT\nCalculating PDF for XRT\nGetting data for PYPL\nCalculating PDF for PYPL\nGetting data for OIH\nCalculating PDF for OIH\nGetting data for V\nCalculating PDF for V\nGetting data for RIG\nCalculating PDF for RIG\nGetting data for KO\nCalculating PDF for KO\nWarning dropped 16 rows containing NaN\nGetting data for CRM\nCalculating PDF for CRM\nWarning dropped 13 rows containing NaN\nGetting data for FDX\nCalculating PDF for FDX\nWarning dropped 15 rows containing NaN\nGetting data for PDD\nCalculating PDF for PDD\nGetting data for APA\nCalculating PDF for APA\nWarning dropped 15 rows containing NaN\nGetting data for TGT\nCalculating PDF for TGT\nGetting data for BP\nCalculating PDF for BP\nWarning dropped 8 rows containing NaN\nGetting data for HAL\nCalculating PDF for HAL\nWarning dropped 16 rows containing NaN\nGetting data for DHR\nCalculating PDF for DHR\nWarning dropped 19 rows containing NaN\nGetting data for JNJ\nCalculating PDF for JNJ\nWarning dropped 32 rows containing NaN\nGetting data for GOOGL\nCalculating PDF for GOOGL\nGetting data for CVS\nCalculating PDF for CVS\nWarning dropped 27 rows containing NaN\nGetting data for ADBE\nCalculating PDF for ADBE\nWarning dropped 10 rows containing NaN\nGetting data for OXY\nCalculating PDF for OXY\nGetting data for INMD\nCalculating PDF for INMD\nWarning dropped 4 rows containing NaN\nGetting data for PAYC\nCalculating PDF for PAYC\nGetting data for NOW\nCalculating PDF for NOW\nGetting data for CPRT\nCalculating PDF for CPRT\nWarning dropped 5 rows containing NaN\nGetting data for TGT\nCalculating PDF for TGT\nGetting data for AAPL\nCalculating PDF for AAPL\nWarning dropped 14 rows containing NaN\nGetting data for MSFT\nCalculating PDF for MSFT\nGetting data for CSCO\nCalculating PDF for CSCO\nWarning dropped 22 rows containing NaN\nGetting data for INTC\nCalculating PDF for INTC\nWarning dropped 30 rows containing NaN\nGetting data for GE\nCalculating PDF for GE\nWarning dropped 11 rows containing NaN\n"
    },
    {
     "output_type": "error",
     "ename": "KeyError",
     "evalue": "'sort_key'",
     "traceback": [
      "\u001b[0;31m---------------------------------------------------------------------------\u001b[0m",
      "\u001b[0;31mKeyError\u001b[0m                                  Traceback (most recent call last)",
      "\u001b[0;32m<ipython-input-11-af99a247633a>\u001b[0m in \u001b[0;36m<module>\u001b[0;34m\u001b[0m\n\u001b[1;32m     75\u001b[0m \u001b[0mprofiles\u001b[0m\u001b[0;34m.\u001b[0m\u001b[0mset_index\u001b[0m\u001b[0;34m(\u001b[0m\u001b[0;34m\"ticker\"\u001b[0m\u001b[0;34m,\u001b[0m \u001b[0minplace\u001b[0m\u001b[0;34m=\u001b[0m\u001b[0;32mTrue\u001b[0m\u001b[0;34m)\u001b[0m\u001b[0;34m\u001b[0m\u001b[0;34m\u001b[0m\u001b[0m\n\u001b[1;32m     76\u001b[0m \u001b[0;34m\u001b[0m\u001b[0m\n\u001b[0;32m---> 77\u001b[0;31m \u001b[0mprofiles\u001b[0m\u001b[0;34m.\u001b[0m\u001b[0msort_values\u001b[0m\u001b[0;34m(\u001b[0m\u001b[0;34m\"sort_key\"\u001b[0m\u001b[0;34m,\u001b[0m \u001b[0mascending\u001b[0m\u001b[0;34m=\u001b[0m\u001b[0;32mFalse\u001b[0m\u001b[0;34m,\u001b[0m \u001b[0minplace\u001b[0m\u001b[0;34m=\u001b[0m\u001b[0;32mTrue\u001b[0m\u001b[0;34m)\u001b[0m\u001b[0;34m\u001b[0m\u001b[0;34m\u001b[0m\u001b[0m\n\u001b[0m\u001b[1;32m     78\u001b[0m \u001b[0mprofiles\u001b[0m\u001b[0;34m.\u001b[0m\u001b[0mdrop\u001b[0m\u001b[0;34m(\u001b[0m\u001b[0mcolumns\u001b[0m\u001b[0;34m=\u001b[0m\u001b[0;34m[\u001b[0m\u001b[0;34m\"sort_key\"\u001b[0m\u001b[0;34m]\u001b[0m\u001b[0;34m,\u001b[0m \u001b[0minplace\u001b[0m\u001b[0;34m=\u001b[0m\u001b[0;32mTrue\u001b[0m\u001b[0;34m)\u001b[0m\u001b[0;34m\u001b[0m\u001b[0;34m\u001b[0m\u001b[0m\n\u001b[1;32m     79\u001b[0m \u001b[0mprofiles\u001b[0m\u001b[0;34m.\u001b[0m\u001b[0mset_index\u001b[0m\u001b[0;34m(\u001b[0m\u001b[0;34m\"ticker\"\u001b[0m\u001b[0;34m,\u001b[0m \u001b[0minplace\u001b[0m\u001b[0;34m=\u001b[0m\u001b[0;32mTrue\u001b[0m\u001b[0;34m)\u001b[0m\u001b[0;34m\u001b[0m\u001b[0;34m\u001b[0m\u001b[0m\n",
      "\u001b[0;32m~/.local/lib/python3.6/site-packages/pandas/core/frame.py\u001b[0m in \u001b[0;36msort_values\u001b[0;34m(self, by, axis, ascending, inplace, kind, na_position, ignore_index)\u001b[0m\n\u001b[1;32m   4925\u001b[0m \u001b[0;34m\u001b[0m\u001b[0m\n\u001b[1;32m   4926\u001b[0m             \u001b[0mby\u001b[0m \u001b[0;34m=\u001b[0m \u001b[0mby\u001b[0m\u001b[0;34m[\u001b[0m\u001b[0;36m0\u001b[0m\u001b[0;34m]\u001b[0m\u001b[0;34m\u001b[0m\u001b[0;34m\u001b[0m\u001b[0m\n\u001b[0;32m-> 4927\u001b[0;31m             \u001b[0mk\u001b[0m \u001b[0;34m=\u001b[0m \u001b[0mself\u001b[0m\u001b[0;34m.\u001b[0m\u001b[0m_get_label_or_level_values\u001b[0m\u001b[0;34m(\u001b[0m\u001b[0mby\u001b[0m\u001b[0;34m,\u001b[0m \u001b[0maxis\u001b[0m\u001b[0;34m=\u001b[0m\u001b[0maxis\u001b[0m\u001b[0;34m)\u001b[0m\u001b[0;34m\u001b[0m\u001b[0;34m\u001b[0m\u001b[0m\n\u001b[0m\u001b[1;32m   4928\u001b[0m \u001b[0;34m\u001b[0m\u001b[0m\n\u001b[1;32m   4929\u001b[0m             \u001b[0;32mif\u001b[0m \u001b[0misinstance\u001b[0m\u001b[0;34m(\u001b[0m\u001b[0mascending\u001b[0m\u001b[0;34m,\u001b[0m \u001b[0;34m(\u001b[0m\u001b[0mtuple\u001b[0m\u001b[0;34m,\u001b[0m \u001b[0mlist\u001b[0m\u001b[0;34m)\u001b[0m\u001b[0;34m)\u001b[0m\u001b[0;34m:\u001b[0m\u001b[0;34m\u001b[0m\u001b[0;34m\u001b[0m\u001b[0m\n",
      "\u001b[0;32m~/.local/lib/python3.6/site-packages/pandas/core/generic.py\u001b[0m in \u001b[0;36m_get_label_or_level_values\u001b[0;34m(self, key, axis)\u001b[0m\n\u001b[1;32m   1690\u001b[0m             \u001b[0mvalues\u001b[0m \u001b[0;34m=\u001b[0m \u001b[0mself\u001b[0m\u001b[0;34m.\u001b[0m\u001b[0maxes\u001b[0m\u001b[0;34m[\u001b[0m\u001b[0maxis\u001b[0m\u001b[0;34m]\u001b[0m\u001b[0;34m.\u001b[0m\u001b[0mget_level_values\u001b[0m\u001b[0;34m(\u001b[0m\u001b[0mkey\u001b[0m\u001b[0;34m)\u001b[0m\u001b[0;34m.\u001b[0m\u001b[0m_values\u001b[0m\u001b[0;34m\u001b[0m\u001b[0;34m\u001b[0m\u001b[0m\n\u001b[1;32m   1691\u001b[0m         \u001b[0;32melse\u001b[0m\u001b[0;34m:\u001b[0m\u001b[0;34m\u001b[0m\u001b[0;34m\u001b[0m\u001b[0m\n\u001b[0;32m-> 1692\u001b[0;31m             \u001b[0;32mraise\u001b[0m \u001b[0mKeyError\u001b[0m\u001b[0;34m(\u001b[0m\u001b[0mkey\u001b[0m\u001b[0;34m)\u001b[0m\u001b[0;34m\u001b[0m\u001b[0;34m\u001b[0m\u001b[0m\n\u001b[0m\u001b[1;32m   1693\u001b[0m \u001b[0;34m\u001b[0m\u001b[0m\n\u001b[1;32m   1694\u001b[0m         \u001b[0;31m# Check for duplicates\u001b[0m\u001b[0;34m\u001b[0m\u001b[0;34m\u001b[0m\u001b[0;34m\u001b[0m\u001b[0m\n",
      "\u001b[0;31mKeyError\u001b[0m: 'sort_key'"
     ]
    }
   ],
   "source": [
    "\n",
    "\n",
    "CAPITAL = 10000\n",
    "NUM_STOCKS = 10\n",
    "\n",
    "try:\n",
    "    page = requests.get(\"https://research.investors.com/options-center/reports/option-volume\", headers={\"User-Agent\": \"Chrome\"})\n",
    "    soup = BeautifulSoup(page.text, features=\"lxml\")\n",
    "\n",
    "    items = soup.findAll(\"a\", {\"class\": \"stockRoll\"})\n",
    "    tickers = [item.text for item in items]\n",
    "except Exception as e:\n",
    "    print(\"Exception when gettings tickers from investors.com\")\n",
    "    print(e)\n",
    "    exit()\n",
    "\n",
    "try:\n",
    "    acc = Account(\"keys.json\")\n",
    "except Exception as e:\n",
    "    print(\"Exception when creating TD account\")\n",
    "    print(e)\n",
    "\n",
    "profiles = []\n",
    "from_date = datetime.now()\n",
    "to_date = from_date + timedelta(days=8)\n",
    "\n",
    "last_query_time = 0\n",
    "\n",
    "profiles = pd.DataFrame(columns=[\"ticker\", \"time\", \"share_price\", \"mean\", \"std\", \"err_mean\", \"err_std\", \"sort_key\"])\n",
    "\n",
    "for ticker in tickers:\n",
    "    try:\n",
    "        time.sleep(max(0, 0.6 - (time.time() - last_query_time)))\n",
    "        print(\"Getting data for\", ticker)\n",
    "        data = acc.get_options_chain(ticker, from_date, to_date, strike_count=50)\n",
    "        if data is None:\n",
    "            continue\n",
    "        mark = acc.get_quotes([ticker])[\"mark\"].iloc[0]\n",
    "        last_query_time = time.time()\n",
    "        print(\"Calculating PDF for\", ticker)\n",
    "        ticker_pdfs = get_pdfs_from_deltas(data, distribution=stats.logistic)\n",
    "        profile = {}\n",
    "        (u, s, errs) = list(ticker_pdfs.values())[0]\n",
    "        profile[\"ticker\"] = ticker\n",
    "        profile[\"time\"] = int(time.time())\n",
    "        profile[\"share_price\"] = mark\n",
    "        profile[\"mean\"] = round(u, 3)\n",
    "        profile[\"std\"] = round(s, 3)\n",
    "        profile[\"err_mean\"] = round(errs[0], 3)\n",
    "        profile[\"err_std\"] = round(errs[1], 3)\n",
    "        profile[\"sort_key\"] = u / mark - errs[0] / u\n",
    "\n",
    "        profiles = profiles.append(profile, ignore_index=True)\n",
    "    except Exception as e:\n",
    "        print(\"Exception when getting data or gettings PDFs for\", ticker)\n",
    "        print(e)\n",
    "\n",
    "profiles.sort_values(\"sort_key\", ascending=False, inplace=True)\n",
    "profiles.drop(columns=[\"sort_key\"], inplace=True)\n",
    "profiles.set_index(\"ticker\", inplace=True)"
   ]
  },
  {
   "cell_type": "code",
   "execution_count": 37,
   "metadata": {
    "tags": []
   },
   "outputs": [
    {
     "output_type": "error",
     "ename": "KeyError",
     "evalue": "'positions'",
     "traceback": [
      "\u001b[0;31m---------------------------------------------------------------------------\u001b[0m",
      "\u001b[0;31mKeyError\u001b[0m                                  Traceback (most recent call last)",
      "\u001b[0;32m<ipython-input-37-92c9319fccdb>\u001b[0m in \u001b[0;36m<module>\u001b[0;34m\u001b[0m\n\u001b[1;32m      2\u001b[0m \u001b[0;34m\u001b[0m\u001b[0m\n\u001b[1;32m      3\u001b[0m \u001b[0mtickers\u001b[0m \u001b[0;34m=\u001b[0m \u001b[0mprofiles\u001b[0m\u001b[0;34m[\u001b[0m\u001b[0;34m:\u001b[0m\u001b[0;36m10\u001b[0m\u001b[0;34m]\u001b[0m\u001b[0;34m.\u001b[0m\u001b[0mindex\u001b[0m\u001b[0;34m\u001b[0m\u001b[0;34m\u001b[0m\u001b[0m\n\u001b[0;32m----> 4\u001b[0;31m \u001b[0mpositions\u001b[0m \u001b[0;34m=\u001b[0m \u001b[0macc\u001b[0m\u001b[0;34m.\u001b[0m\u001b[0mget_positions\u001b[0m\u001b[0;34m(\u001b[0m\u001b[0;34m)\u001b[0m\u001b[0;34m\u001b[0m\u001b[0;34m\u001b[0m\u001b[0m\n\u001b[0m\u001b[1;32m      5\u001b[0m \u001b[0;34m\u001b[0m\u001b[0m\n\u001b[1;32m      6\u001b[0m \u001b[0msell_tickers\u001b[0m \u001b[0;34m=\u001b[0m \u001b[0;34m[\u001b[0m\u001b[0mt\u001b[0m \u001b[0;32mfor\u001b[0m \u001b[0mt\u001b[0m \u001b[0;32min\u001b[0m \u001b[0mpositions\u001b[0m\u001b[0;34m.\u001b[0m\u001b[0mkeys\u001b[0m\u001b[0;34m(\u001b[0m\u001b[0;34m)\u001b[0m \u001b[0;32mif\u001b[0m \u001b[0;32mnot\u001b[0m \u001b[0mt\u001b[0m \u001b[0;32min\u001b[0m \u001b[0mtickers\u001b[0m\u001b[0;34m]\u001b[0m\u001b[0;34m\u001b[0m\u001b[0;34m\u001b[0m\u001b[0m\n",
      "\u001b[0;32m~/stockbot_2020/td_api.py\u001b[0m in \u001b[0;36mget_positions\u001b[0;34m(self)\u001b[0m\n\u001b[1;32m     80\u001b[0m         \u001b[0mdata\u001b[0m \u001b[0;34m=\u001b[0m \u001b[0mresponse\u001b[0m\u001b[0;34m.\u001b[0m\u001b[0mjson\u001b[0m\u001b[0;34m(\u001b[0m\u001b[0;34m)\u001b[0m\u001b[0;34m[\u001b[0m\u001b[0;34m\"securitiesAccount\"\u001b[0m\u001b[0;34m]\u001b[0m\u001b[0;34m\u001b[0m\u001b[0;34m\u001b[0m\u001b[0m\n\u001b[1;32m     81\u001b[0m         \u001b[0mpositions\u001b[0m \u001b[0;34m=\u001b[0m \u001b[0;34m{\u001b[0m\u001b[0;34m}\u001b[0m\u001b[0;34m\u001b[0m\u001b[0;34m\u001b[0m\u001b[0m\n\u001b[0;32m---> 82\u001b[0;31m         \u001b[0;32mif\u001b[0m \u001b[0;34m\"positions\"\u001b[0m \u001b[0;32mnot\u001b[0m \u001b[0;32min\u001b[0m \u001b[0mdata\u001b[0m\u001b[0;34m:\u001b[0m\u001b[0;34m\u001b[0m\u001b[0;34m\u001b[0m\u001b[0m\n\u001b[0m\u001b[1;32m     83\u001b[0m             \u001b[0;32mreturn\u001b[0m \u001b[0mpositions\u001b[0m\u001b[0;34m\u001b[0m\u001b[0;34m\u001b[0m\u001b[0m\n\u001b[1;32m     84\u001b[0m \u001b[0;34m\u001b[0m\u001b[0m\n",
      "\u001b[0;31mKeyError\u001b[0m: 'positions'"
     ]
    }
   ],
   "source": [
    "profiles = profiles[~profiles.index.duplicated(keep='first')]\n",
    "\n",
    "tickers = profiles[:10].index\n",
    "positions = acc.get_positions()\n",
    "\n",
    "sell_tickers = [t for t in positions.keys() if not t in tickers]\n",
    "for ticker in sell_tickers:\n",
    "    print(\"SELL %d %s\" % (positions[ticker], ticker))\n",
    "    time.sleep(max(0, 0.6 - (time.time() - last_query_time)))\n",
    "    acc.sell(ticker, positions[ticker])\n",
    "    last_query_time = time.time()\n",
    "\n",
    "old_tickers = [t for t in tickers if t in positions.keys()]\n",
    "for ticker in old_tickers:\n",
    "    mark = profiles[\"share_price\"][ticker]\n",
    "    target_shares = CAPITAL / NUM_STOCKS / mark\n",
    "    change = round(target_shares - positions[ticker])\n",
    "    if change < 0:\n",
    "        print(\"SELL %d %s\" % (-change, ticker))\n",
    "        acc.sell(ticker, positions[ticker])\n",
    "    else:\n",
    "        print(\"BUY %d %s\" % (change, ticker))\n",
    "        acc.buy(ticker, positions[ticker])\n",
    "\n",
    "new_tickers = [t for t in tickers if not t in positions.keys()]\n",
    "for ticker in new_tickers:\n",
    "    mark = profiles[\"share_price\"][ticker]\n",
    "    target_shares = round(CAPITAL / NUM_STOCKS / mark)\n",
    "    print(\"BUY %d %s\" % (target_shares, ticker))\n",
    "    time.sleep(max(0, 0.6 - (time.time() - last_query_time)))\n",
    "    acc.buy(ticker, target_shares)\n",
    "    last_query_time = time.time()"
   ]
  },
  {
   "cell_type": "code",
   "execution_count": null,
   "metadata": {},
   "outputs": [],
   "source": []
  }
 ],
 "metadata": {
  "language_info": {
   "codemirror_mode": {
    "name": "ipython",
    "version": 3
   },
   "file_extension": ".py",
   "mimetype": "text/x-python",
   "name": "python",
   "nbconvert_exporter": "python",
   "pygments_lexer": "ipython3",
   "version": "3.6.9-final"
  },
  "orig_nbformat": 2,
  "kernelspec": {
   "name": "python36964bitd524803a6f1a4c4ea856998beb39635c",
   "display_name": "Python 3.6.9 64-bit"
  }
 },
 "nbformat": 4,
 "nbformat_minor": 2
}