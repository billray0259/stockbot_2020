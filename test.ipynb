{
 "cells": [
  {
   "cell_type": "code",
   "execution_count": 1,
   "metadata": {},
   "outputs": [],
   "source": [
    "from td_api import Account\n",
    "from datetime import datetime, timedelta\n",
    "\n",
    "acc = Account(\"keys.json\")\n",
    "\n",
    "\n",
    "symbol = \"AMD\"\n",
    "days = 30\n",
    "strike_count = 50\n",
    "\n",
    "from_date = datetime.now()\n",
    "to_date = from_date + timedelta(days=days)\n",
    "data = acc.get_options_chain(symbol, from_date, to_date, strike_count=strike_count)\n"
   ]
  },
  {
   "cell_type": "code",
   "execution_count": 6,
   "metadata": {
    "tags": []
   },
   "outputs": [
    {
     "output_type": "stream",
     "name": "stdout",
     "text": "Index(['sub_0', 'sub_1', 'sub_2', 'sub_3', 'sub_4', 'sub_5', 'sub_6', 'sub_7',\n       'sub_8', 'sub_9'],\n      dtype='object')\n"
    }
   ],
   "source": [
    "import numpy as np\n",
    "import pandas as pd\n",
    "\n",
    "df = {}\n",
    "\n",
    "for i in range(3):\n",
    "    sub_df = {}\n",
    "    for j in range(10):\n",
    "        sub_df[\"sub_%d\" % j] = np.random.random(20)\n",
    "    df[\"df_%d\" % i] = sub_df\n",
    "\n",
    "df = pd.DataFrame(df)\n",
    "print(df)"
   ]
  },
  {
   "cell_type": "code",
   "execution_count": null,
   "metadata": {},
   "outputs": [],
   "source": []
  }
 ],
 "metadata": {
  "language_info": {
   "codemirror_mode": {
    "name": "ipython",
    "version": 3
   },
   "file_extension": ".py",
   "mimetype": "text/x-python",
   "name": "python",
   "nbconvert_exporter": "python",
   "pygments_lexer": "ipython3",
   "version": "3.6.9-final"
  },
  "orig_nbformat": 2,
  "kernelspec": {
   "name": "python36964bitd524803a6f1a4c4ea856998beb39635c",
   "display_name": "Python 3.6.9 64-bit"
  }
 },
 "nbformat": 4,
 "nbformat_minor": 2
}