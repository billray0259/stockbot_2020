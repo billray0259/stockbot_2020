{
 "cells": [
  {
   "cell_type": "code",
   "execution_count": 1,
   "metadata": {},
   "outputs": [],
   "source": [
    "from tensorflow import keras\n",
    "import numpy as np\n",
    "import pandas as pd\n",
    "import matplotlib.pyplot as plt\n",
    "from tqdm import tqdm\n",
    "import random\n",
    "import finnhub\n",
    "\n",
    "\n",
    "def get_df(ticker, days):\n",
    "    now = round(time.time())\n",
    "    day = 60*60*24\n",
    "\n",
    "    from_ = now - days * day\n",
    "    to = now\n",
    "\n",
    "    candles = client.stock_candles(ticker, \"D\", from_, to, _preload_content=False).data\n",
    "    try:\n",
    "        df = pd.read_json(candles)\n",
    "        df.index = df[\"t\"]\n",
    "        return df\n",
    "    except:\n",
    "        print(candles)"
   ]
  },
  {
   "cell_type": "code",
   "execution_count": null,
   "metadata": {},
   "outputs": [],
   "source": []
  }
 ],
 "metadata": {
  "language_info": {
   "codemirror_mode": {
    "name": "ipython",
    "version": 3
   },
   "file_extension": ".py",
   "mimetype": "text/x-python",
   "name": "python",
   "nbconvert_exporter": "python",
   "pygments_lexer": "ipython3",
   "version": 3
  },
  "orig_nbformat": 2,
  "kernelspec": {
   "name": "python_defaultSpec_1594760191589",
   "display_name": "Python 3.6.9 64-bit"
  }
 },
 "nbformat": 4,
 "nbformat_minor": 2
}